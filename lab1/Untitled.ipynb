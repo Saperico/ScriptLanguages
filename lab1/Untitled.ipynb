{
 "cells": [
  {
   "cell_type": "code",
   "execution_count": 1,
   "id": "817fe288-c611-4eb2-b879-f17a0d66dad9",
   "metadata": {},
   "outputs": [
    {
     "name": "stdout",
     "output_type": "stream",
     "text": [
      "Hello, {}! World\n"
     ]
    }
   ],
   "source": [
    "name = \"World\"\n",
    "print(\"Hello, {}!\", name)\n"
   ]
  },
  {
   "cell_type": "markdown",
   "id": "10745975-c6ef-4ad9-af85-5832fffed51c",
   "metadata": {},
   "source": [
    "# My Python app\n",
    "This is my code in Jupyter Notebook"
   ]
  }
 ],
 "metadata": {
  "kernelspec": {
   "display_name": "Python 3 (ipykernel)",
   "language": "python",
   "name": "python3"
  },
  "language_info": {
   "codemirror_mode": {
    "name": "ipython",
    "version": 3
   },
   "file_extension": ".py",
   "mimetype": "text/x-python",
   "name": "python",
   "nbconvert_exporter": "python",
   "pygments_lexer": "ipython3",
   "version": "3.11.0"
  }
 },
 "nbformat": 4,
 "nbformat_minor": 5
}
